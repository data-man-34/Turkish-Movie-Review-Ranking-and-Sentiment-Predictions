{
 "cells": [
  {
   "cell_type": "code",
   "execution_count": 509,
   "metadata": {},
   "outputs": [],
   "source": [
    "import warnings\n",
    "warnings.filterwarnings('ignore')\n",
    "import numpy\n",
    "from sklearn import svm\n",
    "from sklearn.neural_network import MLPClassifier\n",
    "from sklearn import cross_validation\n",
    "import matplotlib.pyplot as plt\n"
   ]
  },
  {
   "cell_type": "markdown",
   "metadata": {},
   "source": [
    "# Word2Vec function by gensim models"
   ]
  },
  {
   "cell_type": "code",
   "execution_count": 104,
   "metadata": {},
   "outputs": [],
   "source": [
    "import gensim.models\n",
    "import logging\n",
    "\n",
    "def Word2Vec(vector_size,training_alg):\n",
    "    logging.basicConfig(format='%(asctime)s : %(levelname)s : %(message)s', level=logging.INFO)\n",
    "    model = gensim.models.Word2Vec(size = vector_size,sg=training_alg)\n",
    "    sentences = gensim.models.word2vec.LineSentence(\"reviews_all_2306.txt\")\n",
    "    model.build_vocab(sentences,total_examples=len(sentences))\n",
    "    model.train(sentences)\n",
    "\n",
    "    return model"
   ]
  },
  {
   "cell_type": "markdown",
   "metadata": {},
   "source": [
    "# Dataset Import Function"
   ]
  },
  {
   "cell_type": "code",
   "execution_count": 417,
   "metadata": {},
   "outputs": [],
   "source": [
    "def FromExcelToArray():\n",
    "\n",
    "    WBook = xlrd.open_workbook(\"ReviewsAndRatings_all_19_06.xls\")\n",
    "    WSheets = WBook.sheets()\n",
    "    ReviewWS,RatingsWS = WSheets\n",
    "\n",
    "\n",
    "    Ratings = RatingsWS.col_values(0)\n",
    "    Reviews = ReviewWS.col_values(0)\n",
    "    Ratings_Normal = RatingsWS.col_values(1)\n",
    "\n",
    "    return Ratings,Reviews,Ratings_Normal\n"
   ]
  },
  {
   "cell_type": "code",
   "execution_count": 418,
   "metadata": {},
   "outputs": [],
   "source": [
    "Ratings,Reviews,_ = FromExcelToArray()\n",
    "sentences = []\n",
    "for review in Reviews:\n",
    "    sentences.append(review.split())"
   ]
  },
  {
   "cell_type": "code",
   "execution_count": 512,
   "metadata": {},
   "outputs": [
    {
     "data": {
      "image/png": "[encoded data removed]",
      "text/plain": [
       "<Figure size 432x288 with 1 Axes>"
      ]
     },
     "metadata": {},
     "output_type": "display_data"
    }
   ],
   "source": [
    "#Ranking distribution of the reviews\n",
    "plt.hist(np.round(Ratings));\n",
    "plt.show()"
   ]
  },
  {
   "cell_type": "markdown",
   "metadata": {},
   "source": [
    "# W2V Model Generation"
   ]
  },
  {
   "cell_type": "code",
   "execution_count": 108,
   "metadata": {},
   "outputs": [
    {
     "name": "stderr",
     "output_type": "stream",
     "text": [
      "2018-10-06 13:55:29,605 : INFO : collecting all words and their counts\n",
      "2018-10-06 13:55:29,609 : INFO : PROGRESS: at sentence #0, processed 0 words, keeping 0 word types\n",
      "2018-10-06 13:55:29,753 : INFO : PROGRESS: at sentence #10000, processed 377787 words, keeping 49936 word types\n",
      "2018-10-06 13:55:29,896 : INFO : PROGRESS: at sentence #20000, processed 849752 words, keeping 82778 word types\n",
      "2018-10-06 13:55:30,017 : INFO : PROGRESS: at sentence #30000, processed 1222645 words, keeping 103818 word types\n",
      "2018-10-06 13:55:30,083 : INFO : collected 112561 word types from a corpus of 1404677 raw words and 34991 sentences\n",
      "2018-10-06 13:55:30,084 : INFO : Loading a fresh vocabulary\n",
      "2018-10-06 13:55:30,202 : INFO : effective_min_count=5 retains 21447 unique words (19% of original 112561, drops 91114)\n",
      "2018-10-06 13:55:30,203 : INFO : effective_min_count=5 leaves 1269948 word corpus (90% of original 1404677, drops 134729)\n",
      "2018-10-06 13:55:30,296 : INFO : deleting the raw counts dictionary of 112561 items\n",
      "2018-10-06 13:55:30,300 : INFO : sample=0.001 downsamples 33 most-common words\n",
      "2018-10-06 13:55:30,301 : INFO : downsampling leaves estimated 1085962 word corpus (85.5% of prior 1269948)\n",
      "2018-10-06 13:55:30,404 : INFO : estimated required memory for 21447 words and 100 dimensions: 27881100 bytes\n",
      "2018-10-06 13:55:30,405 : INFO : resetting layer weights\n",
      "2018-10-06 13:55:30,701 : INFO : training model with 3 workers on 21447 vocabulary and 100 features, using sg=0 hs=0 sample=0.001 negative=5 window=5\n",
      "2018-10-06 13:55:31,713 : INFO : EPOCH 1 - PROGRESS: at 76.94% examples, 857354 words/s, in_qsize 5, out_qsize 0\n",
      "2018-10-06 13:55:31,950 : INFO : worker thread finished; awaiting finish of 2 more threads\n",
      "2018-10-06 13:55:31,951 : INFO : worker thread finished; awaiting finish of 1 more threads\n",
      "2018-10-06 13:55:31,970 : INFO : worker thread finished; awaiting finish of 0 more threads\n",
      "2018-10-06 13:55:31,971 : INFO : EPOCH - 1 : training on 1404677 raw words (1085829 effective words) took 1.3s, 860819 effective words/s\n",
      "2018-10-06 13:55:32,990 : INFO : EPOCH 2 - PROGRESS: at 50.38% examples, 556173 words/s, in_qsize 5, out_qsize 0\n",
      "2018-10-06 13:55:33,631 : INFO : worker thread finished; awaiting finish of 2 more threads\n",
      "2018-10-06 13:55:33,637 : INFO : worker thread finished; awaiting finish of 1 more threads\n",
      "2018-10-06 13:55:33,642 : INFO : worker thread finished; awaiting finish of 0 more threads\n",
      "2018-10-06 13:55:33,643 : INFO : EPOCH - 2 : training on 1404677 raw words (1086091 effective words) took 1.7s, 652564 effective words/s\n",
      "2018-10-06 13:55:34,654 : INFO : EPOCH 3 - PROGRESS: at 67.57% examples, 765827 words/s, in_qsize 6, out_qsize 1\n",
      "2018-10-06 13:55:35,099 : INFO : worker thread finished; awaiting finish of 2 more threads\n",
      "2018-10-06 13:55:35,106 : INFO : worker thread finished; awaiting finish of 1 more threads\n",
      "2018-10-06 13:55:35,109 : INFO : worker thread finished; awaiting finish of 0 more threads\n",
      "2018-10-06 13:55:35,110 : INFO : EPOCH - 3 : training on 1404677 raw words (1086103 effective words) took 1.5s, 743507 effective words/s\n",
      "2018-10-06 13:55:36,120 : INFO : EPOCH 4 - PROGRESS: at 79.97% examples, 886800 words/s, in_qsize 6, out_qsize 0\n",
      "2018-10-06 13:55:36,329 : INFO : worker thread finished; awaiting finish of 2 more threads\n",
      "2018-10-06 13:55:36,330 : INFO : worker thread finished; awaiting finish of 1 more threads\n",
      "2018-10-06 13:55:36,331 : INFO : worker thread finished; awaiting finish of 0 more threads\n",
      "2018-10-06 13:55:36,332 : INFO : EPOCH - 4 : training on 1404677 raw words (1085920 effective words) took 1.2s, 893600 effective words/s\n",
      "2018-10-06 13:55:37,350 : INFO : EPOCH 5 - PROGRESS: at 85.57% examples, 931895 words/s, in_qsize 5, out_qsize 0\n",
      "2018-10-06 13:55:37,518 : INFO : worker thread finished; awaiting finish of 2 more threads\n",
      "2018-10-06 13:55:37,520 : INFO : worker thread finished; awaiting finish of 1 more threads\n",
      "2018-10-06 13:55:37,526 : INFO : worker thread finished; awaiting finish of 0 more threads\n",
      "2018-10-06 13:55:37,527 : INFO : EPOCH - 5 : training on 1404677 raw words (1085479 effective words) took 1.2s, 912655 effective words/s\n",
      "2018-10-06 13:55:37,528 : INFO : training on a 7023385 raw words (5429422 effective words) took 6.8s, 795418 effective words/s\n"
     ]
    }
   ],
   "source": [
    "model = gensim.models.Word2Vec(sentences)"
   ]
  },
  {
   "cell_type": "markdown",
   "metadata": {},
   "source": [
    "# Rev2Vec \n",
    "\n",
    "Imported reviews and ratings are processed to convert vector representation. rev2vec is average of vector representation of the review sentences."
   ]
  },
  {
   "cell_type": "code",
   "execution_count": 485,
   "metadata": {},
   "outputs": [],
   "source": [
    "rev2vec = np.zeros((100,34900))\n",
    "rat2vec = np.zeros((1,34900))\n",
    "temp = np.zeros((100,1))\n",
    "count = 1\n",
    "\n",
    "for sentence in sentences:\n",
    "    vectorSize = 0\n",
    "    for word in sentence:\n",
    "        try:\n",
    "            temp += np.reshape(model[word],(100,1))\n",
    "            vectorSize += 1\n",
    "        except KeyError:\n",
    "            continue\n",
    "    if vectorSize > 0:\n",
    "        temp /= vectorSize\n",
    "        rev2vec[:,count-1:count] = temp\n",
    "        rat2vec[:,count-1:count] = Ratings[count-1]\n",
    "        count += 1"
   ]
  },
  {
   "cell_type": "markdown",
   "metadata": {},
   "source": [
    "# Train and test set"
   ]
  },
  {
   "cell_type": "code",
   "execution_count": 442,
   "metadata": {},
   "outputs": [],
   "source": [
    "train_rev,test_rev,train_rat,test_rat = cross_validation.train_test_split(rev2vec.T,rat2vec.T,test_size = 0.2)\n",
    "\n",
    "\n"
   ]
  },
  {
   "cell_type": "markdown",
   "metadata": {},
   "source": [
    "# Classification for Ranking Prediction\n",
    "\n",
    "Different kernel performance is observed"
   ]
  },
  {
   "cell_type": "code",
   "execution_count": 443,
   "metadata": {},
   "outputs": [
    {
     "data": {
      "text/plain": [
       "0.47449856733524354"
      ]
     },
     "execution_count": 443,
     "metadata": {},
     "output_type": "execute_result"
    }
   ],
   "source": [
    "svm_model = svm.SVC(kernel = 'rbf')\n",
    "svm_model.fit(train_rev,np.round(train_rat))\n",
    "svm_model.score(test_rev,np.round(test_rat))"
   ]
  },
  {
   "cell_type": "code",
   "execution_count": 445,
   "metadata": {},
   "outputs": [
    {
     "data": {
      "text/plain": [
       "0.47449856733524354"
      ]
     },
     "execution_count": 445,
     "metadata": {},
     "output_type": "execute_result"
    }
   ],
   "source": [
    "svm_model = svm.SVC(kernel = 'linear')\n",
    "svm_model.fit(train_rev,np.round(train_rat))\n",
    "svm_model.score(test_rev,np.round(test_rat))"
   ]
  },
  {
   "cell_type": "code",
   "execution_count": 447,
   "metadata": {},
   "outputs": [
    {
     "data": {
      "text/plain": [
       "0.47392550143266476"
      ]
     },
     "execution_count": 447,
     "metadata": {},
     "output_type": "execute_result"
    }
   ],
   "source": [
    "svm_model2 = svm.LinearSVC()\n",
    "svm_model2.fit(train_rev,np.round(train_rat))\n",
    "svm_model2.score(test_rev,np.round(test_rat))"
   ]
  },
  {
   "cell_type": "code",
   "execution_count": null,
   "metadata": {},
   "outputs": [],
   "source": [
    "clf = MLPClassifier(solver='lbfgs', alpha=0.01, hidden_layer_sizes=(100, 50,1), random_state=1)\n",
    "clf.fit(train_rev.T,np.round(train_rat.T))\n"
   ]
  },
  {
   "cell_type": "code",
   "execution_count": null,
   "metadata": {},
   "outputs": [],
   "source": []
  },
  {
   "cell_type": "markdown",
   "metadata": {},
   "source": [
    "# Classification for Sentiment Prediction"
   ]
  },
  {
   "cell_type": "code",
   "execution_count": 486,
   "metadata": {},
   "outputs": [],
   "source": [
    "#Rating greater than 2.5 is assigned to positive (1), others to negative(0)\n",
    "rat2vec = np.reshape(rat2vec,(34900))\n",
    "y = rat2vec\n",
    "y[rat2vec <= 2.5] = 0\n",
    "y[rat2vec > 2.5] = 1"
   ]
  },
  {
   "cell_type": "code",
   "execution_count": 501,
   "metadata": {},
   "outputs": [],
   "source": [
    "train_rev,test_rev,train_rat,test_rat = cross_validation.train_test_split(rev2vec.T,y,test_size = 0.2)\n"
   ]
  },
  {
   "cell_type": "code",
   "execution_count": 502,
   "metadata": {},
   "outputs": [
    {
     "data": {
      "text/plain": [
       "0.7041547277936963"
      ]
     },
     "execution_count": 502,
     "metadata": {},
     "output_type": "execute_result"
    }
   ],
   "source": [
    "svm_model = svm.SVC(kernel = 'rbf')\n",
    "svm_model.fit(train_rev,train_rat)\n",
    "svm_model.score(test_rev,test_rat)"
   ]
  },
  {
   "cell_type": "code",
   "execution_count": 503,
   "metadata": {},
   "outputs": [
    {
     "data": {
      "text/plain": [
       "0.7064469914040115"
      ]
     },
     "execution_count": 503,
     "metadata": {},
     "output_type": "execute_result"
    }
   ],
   "source": [
    "svm_model2 = svm.LinearSVC()\n",
    "svm_model2.fit(train_rev,np.round(train_rat))\n",
    "svm_model2.score(test_rev,np.round(test_rat))"
   ]
  },
  {
   "cell_type": "code",
   "execution_count": 504,
   "metadata": {},
   "outputs": [
    {
     "data": {
      "text/plain": [
       "0.6936962750716332"
      ]
     },
     "execution_count": 504,
     "metadata": {},
     "output_type": "execute_result"
    }
   ],
   "source": [
    "clf = MLPClassifier(solver='lbfgs', alpha=0.01, hidden_layer_sizes=(50,10), random_state=1)\n",
    "clf.fit(train_rev,np.round(train_rat))\n",
    "clf.score(test_rev,np.round(test_rat))"
   ]
  },
  {
   "cell_type": "code",
   "execution_count": 505,
   "metadata": {},
   "outputs": [],
   "source": [
    "train_rev = rev2vec.T[:10000,:]\n",
    "train_rat = y[:10000]\n",
    "test_rev = rev2vec.T[10000:12000,:]\n",
    "test_rat = y[10000:12000]"
   ]
  },
  {
   "cell_type": "code",
   "execution_count": 506,
   "metadata": {},
   "outputs": [
    {
     "data": {
      "text/plain": [
       "0.755"
      ]
     },
     "execution_count": 506,
     "metadata": {},
     "output_type": "execute_result"
    }
   ],
   "source": [
    "svm_model = svm.SVC(kernel = 'rbf')\n",
    "svm_model.fit(train_rev,train_rat)\n",
    "svm_model.score(test_rev,test_rat)"
   ]
  },
  {
   "cell_type": "code",
   "execution_count": 507,
   "metadata": {},
   "outputs": [
    {
     "data": {
      "text/plain": [
       "0.764"
      ]
     },
     "execution_count": 507,
     "metadata": {},
     "output_type": "execute_result"
    }
   ],
   "source": [
    "svm_model2 = svm.LinearSVC()\n",
    "svm_model2.fit(train_rev,np.round(train_rat))\n",
    "svm_model2.score(test_rev,np.round(test_rat))"
   ]
  },
  {
   "cell_type": "code",
   "execution_count": 508,
   "metadata": {},
   "outputs": [
    {
     "data": {
      "text/plain": [
       "0.756"
      ]
     },
     "execution_count": 508,
     "metadata": {},
     "output_type": "execute_result"
    }
   ],
   "source": [
    "clf = MLPClassifier(solver='lbfgs', alpha=0.01, hidden_layer_sizes=(50,10), random_state=1)\n",
    "clf.fit(train_rev,np.round(train_rat))\n",
    "clf.score(test_rev,np.round(test_rat))"
   ]
  },
  {
   "cell_type": "code",
   "execution_count": null,
   "metadata": {},
   "outputs": [],
   "source": []
  }
 ],
 "metadata": {
  "kernelspec": {
   "display_name": "Python 3",
   "language": "python",
   "name": "python3"
  },
  "language_info": {
   "codemirror_mode": {
    "name": "ipython",
    "version": 3
   },
   "file_extension": ".py",
   "mimetype": "text/x-python",
   "name": "python",
   "nbconvert_exporter": "python",
   "pygments_lexer": "ipython3",
   "version": "3.6.5"
  }
 },
 "nbformat": 4,
 "nbformat_minor": 2
}
