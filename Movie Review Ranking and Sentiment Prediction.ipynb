{
 "cells": [
  {
   "cell_type": "code",
   "execution_count": 56,
   "metadata": {},
   "outputs": [],
   "source": [
    "import warnings\n",
    "warnings.filterwarnings('ignore')\n",
    "import numpy as np\n",
    "from sklearn import svm\n",
    "from sklearn.neural_network import MLPClassifier\n",
    "from sklearn import cross_validation\n",
    "import matplotlib.pyplot as plt\n",
    "import xlrd\n",
    "import time\n"
   ]
  },
  {
   "cell_type": "markdown",
   "metadata": {},
   "source": [
    "# Word2Vec function by gensim models"
   ]
  },
  {
   "cell_type": "code",
   "execution_count": 25,
   "metadata": {},
   "outputs": [],
   "source": [
    "import gensim.models\n",
    "import logging\n",
    "\n",
    "def Word2Vec(vector_size,training_alg):\n",
    "    logging.basicConfig(format='%(asctime)s : %(levelname)s : %(message)s', level=logging.INFO)\n",
    "    model = gensim.models.Word2Vec(size = vector_size,sg=training_alg)\n",
    "    sentences = gensim.models.word2vec.LineSentence(\"./corpus/reviews_all_2306.txt\")\n",
    "    model.build_vocab(sentences,total_examples=len(sentences))\n",
    "    model.train(sentences)\n",
    "\n",
    "    return model"
   ]
  },
  {
   "cell_type": "markdown",
   "metadata": {},
   "source": [
    "# Dataset Import Function"
   ]
  },
  {
   "cell_type": "code",
   "execution_count": 26,
   "metadata": {},
   "outputs": [],
   "source": [
    "def FromExcelToArray():\n",
    "\n",
    "    WBook = xlrd.open_workbook(\"./dataset/ReviewsAndRatings_all_19_06.xls\")\n",
    "    WSheets = WBook.sheets()\n",
    "    ReviewWS,RatingsWS = WSheets\n",
    "\n",
    "\n",
    "    Ratings = RatingsWS.col_values(0)\n",
    "    Reviews = ReviewWS.col_values(0)\n",
    "    Ratings_Normal = RatingsWS.col_values(1)\n",
    "\n",
    "    return Ratings,Reviews,Ratings_Normal\n"
   ]
  },
  {
   "cell_type": "code",
   "execution_count": 27,
   "metadata": {},
   "outputs": [],
   "source": [
    "#Reviews and corresponding rankings are imported from excel\n",
    "Ratings,Reviews,_ = FromExcelToArray()\n",
    "sentences = []\n",
    "for review in Reviews:\n",
    "    sentences.append(review.split())"
   ]
  },
  {
   "cell_type": "markdown",
   "metadata": {},
   "source": [
    "# Samples from dataset"
   ]
  },
  {
   "cell_type": "code",
   "execution_count": 18,
   "metadata": {},
   "outputs": [
    {
     "name": "stdout",
     "output_type": "stream",
     "text": [
      "Review: jarmusch un sinemasina pek de asina degildim bu filmden once surekli siraya aliyordum ama izleyememistim konusu ilgimi ceken coffee and cigarettes ile basladim farkli bir tarzi olan ve bu tarzi pek cok kisi tarafindan begenilen bir yonetmen bu filmi pek cok kisa hikayeden veya enstantane diyelim olusuyor bunlarin arasindan birkaci disinda pek beni acanina rastlamadim nemli bazi oyuncular sahne aliyor film boyunca ve bazi muzik insanlari benim icin bir tutku olan kahve yi bekledigim haliyle goremedim pek ona eslik eden muhabbetleri begenmememden ileri geliyor bu da sanirim bir de sigara kullanmadigimdan ve bu ikisinin yan yana geldiginde ne anlam ifade ettiginden bihaber oldugumdan yuksek beklentilerim ne yazik ki filmin aleyhine isledi \n",
      "Rating: 2.5\n",
      "Review: siradan demek bile yanlis kotunun kotusu vakit ve nakit kaybina neden olan film \n",
      "Rating: 0.0\n",
      "Review: filmin baslangici diyalog yok 15  20 dakika kadar mukemmel bir giris hani su siralar herkese etfedilen karizma var ya iste size gercek karizma henry fonda charles bronson o muzikler cardinale nin muhtesem guzelligi bir western klasigi demek haksizlik sinema tarihinin en basarili filmlerinden biri unutulmaz  \n",
      "Rating: 2.5\n",
      "Review: seriye yakisir bir animasyon olmus turkce dublajida baya espirituel hos bir izlenim ve eglenceli dakikalar yasatiyor izlemeden gecmeyin \n",
      "Rating: 4.5\n",
      "Review: 0 6 yas grubuna hitap eden bir film cekmis cagan irmak ve ayni zamanda giderek kariyerininde dibine vurmak uzere \n",
      "film cok siradan cok klise hani surasi iyiydi guzel diyeceginiz sahnede pek yok \n",
      "sikici bir havasi var  \n",
      "zamaniniz varsa bile izlemeyin  \n",
      "Rating: 2.0\n",
      "Review: film ile ilgili yapilan bircok yorum ve elestiriden anladigim kadariyla 50 ilk pucuk filminden sonra bu ikilinin yeniden bir araya gelmesini isteyen bir tek ben yokmusum \n",
      "Rating: 4.0\n",
      "Review: crank filmini tipik bir jason statham filmi sanmistim en basta sadece aksiyon silah ve dovus sahneleri bu film ise jasonin diger filmlerine gore daha delice grand theft auto oyununun filme donusmus hali desem hic bile yalan olmaz fakat bu sefer isin icinde in zehri de var \n",
      "Rating: 3.5\n",
      "Review: izlerken cok keyif alacaginiz son donemlerde gordugum en iyi animasyonlardan biri 8 10\n",
      "Rating: 4.0\n",
      "Review: jennifer aniston icin bile cekilmiyor dogrusu  o kadar kotu yani  10 5\n",
      "Rating: 2.5\n",
      "Review: britanyanin en baba iki aktoru sean connery ve michael caine muthis bir tarihi macera olan yapimda dokturuyorlar 19 yuzyilda geri kalmis bir toplumda uckagitcilik yapip somuren ancak kibirlerinin kurbani olan iki beyaz adamin maceralari hayli eglenceli izlemeye deger 9 10\n",
      "Rating: 4.0\n"
     ]
    }
   ],
   "source": [
    "for i in range(10):\n",
    "    ind = np.random.choice(range(np.size(Reviews)))\n",
    "    print(\"Review:\",Reviews[ind])\n",
    "    print(\"Rating:\",Ratings[ind])"
   ]
  },
  {
   "cell_type": "code",
   "execution_count": 97,
   "metadata": {},
   "outputs": [
    {
     "data": {
      "image/png": "[encoded data removed]",
      "text/plain": [
       "<Figure size 432x288 with 1 Axes>"
      ]
     },
     "metadata": {},
     "output_type": "display_data"
    }
   ],
   "source": [
    "#Ranking distribution of the reviews\n",
    "plt.hist(np.round(Ratings),align='left');\n",
    "plt.show()"
   ]
  },
  {
   "cell_type": "markdown",
   "metadata": {},
   "source": [
    "# W2V Model Generation\n",
    "\n",
    "A word2vec model is trained with a corpus generated with reviews. To ensure the function of the model, similarities and differences btw randomly selected words are observed.\n",
    "\n",
    "As expected \"harika\" and \"muthis\" have a significant similarity while \"berbat\" and \"harika\" have distance in terms of similarity.\n",
    "\n",
    "\n",
    "\n",
    "- Turkish-English Translation for better understanding:\n",
    "\n",
    "    harika --> great\n",
    "\n",
    "    muthis --> awesome\n",
    "\n",
    "    berbat --> awful\n",
    "\n",
    "    kotu --> bad\n",
    "\n",
    "    iyi --> good\n",
    "\n",
    "    basarili --> successful\n",
    "\n",
    "    romantik --> romantic\n",
    "\n",
    "    polisiye --> detective\n",
    "\n",
    "    turu --> kind\n",
    "\n",
    "    komedi --> comedy\n",
    "\n",
    "    muzikal --> musical"
   ]
  },
  {
   "cell_type": "code",
   "execution_count": 28,
   "metadata": {},
   "outputs": [],
   "source": [
    "model = gensim.models.Word2Vec(sentences)"
   ]
  },
  {
   "cell_type": "code",
   "execution_count": 29,
   "metadata": {},
   "outputs": [
    {
     "name": "stdout",
     "output_type": "stream",
     "text": [
      "0.9516637\n",
      "0.43732834\n",
      "0.8299482\n",
      "berbat\n"
     ]
    },
    {
     "data": {
      "text/plain": [
       "[('turu', 0.8534811735153198),\n",
       " ('turunde', 0.85245680809021),\n",
       " ('muzikal', 0.8348255157470703),\n",
       " ('komedisi', 0.8346090316772461),\n",
       " ('komediler', 0.8293323516845703),\n",
       " ('polisiye', 0.8235896825790405),\n",
       " ('komedi', 0.8137505650520325),\n",
       " ('absurd', 0.8069031238555908),\n",
       " ('fantastik', 0.8064051866531372),\n",
       " ('dram', 0.8020175099372864)]"
      ]
     },
     "execution_count": 29,
     "metadata": {},
     "output_type": "execute_result"
    }
   ],
   "source": [
    "print(model.similarity(\"harika\",\"muthis\"))\n",
    "print(model.similarity(\"berbat\",\"harika\"))\n",
    "print(model.similarity(\"kotu\",\"berbat\"))\n",
    "print(model.doesnt_match(\"iyi mukemmel basarili harika berbat\".split()))\n",
    "model.most_similar(\"romantik\")"
   ]
  },
  {
   "cell_type": "markdown",
   "metadata": {},
   "source": [
    "# Rev2Vec \n",
    "\n",
    "Imported reviews and ratings are processed to convert vector representation. rev2vec is average of vector representation of the review sentences [100 x 1]"
   ]
  },
  {
   "cell_type": "code",
   "execution_count": 30,
   "metadata": {},
   "outputs": [],
   "source": [
    "rev2vec = np.zeros((100,34900))\n",
    "rat2vec = np.zeros((1,34900))\n",
    "temp = np.zeros((100,1))\n",
    "count = 1\n",
    "\n",
    "for sentence in sentences:\n",
    "    vectorSize = 0\n",
    "    for word in sentence:\n",
    "        try:\n",
    "            temp += np.reshape(model[word],(100,1))\n",
    "            vectorSize += 1\n",
    "        except KeyError:\n",
    "            continue\n",
    "    if vectorSize > 0:\n",
    "        temp /= vectorSize\n",
    "        rev2vec[:,count-1:count] = temp\n",
    "        rat2vec[:,count-1:count] = Ratings[count-1]\n",
    "        count += 1"
   ]
  },
  {
   "cell_type": "markdown",
   "metadata": {},
   "source": [
    "# Classification for Ranking Prediction\n",
    "\n",
    "\n",
    "\n",
    "\n",
    "\n",
    "- Input : 1x100 vector representation of review sentences\n",
    "- Output: one of the 6 different ranking classes (0,1,2,3,4,5). Half points are rounded up.\n",
    "\n",
    "\n",
    "As observed SVC has better performance with randomly selected small batch of training set. As training set is getting larger its performance is decreasing. \n",
    "\n",
    "\n",
    "Also different kernel (rbf and linear) performance is observed in SVC.\n",
    "\n",
    "Just for curiosity MLP is also trained and the performance was similar to SVC's. However in terms of computation time there is a significant difference. As number of sample increases computational cost of SVC increase exponentially.\n",
    "\n",
    "Best performance with 12k random subset:\n",
    "\n",
    "- SVC Training  : Accuracy: 0.511  computation time : 22.58 sec\n",
    "\n",
    "\n",
    "- MLP Training  : Accuracy: 0.493  computation time : 1.25 sec\n",
    "\n",
    "Best performance with all dataset:\n",
    "\n",
    "- SVC Training  : Accuracy: 0.472 computation time : 269.02 sec\n",
    "\n",
    "- Linear SVC : Accuracy: 0.462  computation time : 84.44 sec\n",
    "\n",
    "- MLP Training  : Accuracy: 0.493  computation time : 3.05 sec\n"
   ]
  },
  {
   "cell_type": "markdown",
   "metadata": {},
   "source": [
    "## Classification of random subset(12k sample) of the dataset. Data order is random so it is not necessary to generate random index.\n"
   ]
  },
  {
   "cell_type": "code",
   "execution_count": 67,
   "metadata": {},
   "outputs": [],
   "source": [
    "#Test/train set division\n",
    "\n",
    "train_rev = rev2vec.T[:10000,:]\n",
    "train_rat = rat2vec.T[:10000,:]\n",
    "test_rev = rev2vec.T[10000:12000,:]\n",
    "test_rat = rat2vec.T[10000:12000,:]"
   ]
  },
  {
   "cell_type": "code",
   "execution_count": 69,
   "metadata": {},
   "outputs": [
    {
     "name": "stdout",
     "output_type": "stream",
     "text": [
      "Accuracy: 0.511  computation time : 22.58131299999991\n"
     ]
    }
   ],
   "source": [
    "time_start = time.clock()\n",
    "\n",
    "svm_model = svm.SVC(kernel = 'rbf')\n",
    "svm_model.fit(train_rev,np.round(train_rat))\n",
    "score = svm_model.score(test_rev,np.round(test_rat))\n",
    "\n",
    "time_elapsed = (time.clock() - time_start)\n",
    "\n",
    "print(\"Accuracy: \" + str(score) + \" \" + \" computation time : \" + str(time_elapsed))"
   ]
  },
  {
   "cell_type": "code",
   "execution_count": 70,
   "metadata": {},
   "outputs": [
    {
     "name": "stdout",
     "output_type": "stream",
     "text": [
      "Accuracy: 0.493  computation time : 1.2507469999998193\n"
     ]
    }
   ],
   "source": [
    "time_start = time.clock()\n",
    "\n",
    "clf = MLPClassifier(solver='lbfgs', alpha=1e-5, hidden_layer_sizes=(100, 50,1), random_state=1)\n",
    "clf.fit(train_rev,np.round(train_rat))\n",
    "score = clf.score(test_rev,np.round(test_rat))\n",
    "\n",
    "time_elapsed = (time.clock() - time_start)\n",
    "\n",
    "print(\"Accuracy: \" + str(score) + \" \" + \" computation time : \" + str(time_elapsed))"
   ]
  },
  {
   "cell_type": "markdown",
   "metadata": {},
   "source": [
    "## Classification of all of the dataset(~35k sample). "
   ]
  },
  {
   "cell_type": "code",
   "execution_count": 76,
   "metadata": {},
   "outputs": [],
   "source": [
    "train_rev,test_rev,train_rat,test_rat = cross_validation.train_test_split(rev2vec.T,rat2vec.T,test_size = 0.2)"
   ]
  },
  {
   "cell_type": "code",
   "execution_count": 62,
   "metadata": {},
   "outputs": [
    {
     "name": "stdout",
     "output_type": "stream",
     "text": [
      "Accuracy: 0.4722063037249284  computation time : 289.11797\n"
     ]
    }
   ],
   "source": [
    "#SVC with RBF kernel\n",
    "\n",
    "time_start = time.clock()\n",
    "\n",
    "svm_model = svm.SVC(kernel = 'rbf')\n",
    "svm_model.fit(train_rev,np.round(train_rat))\n",
    "score = svm_model.score(test_rev,np.round(test_rat))\n",
    "\n",
    "time_elapsed = (time.clock() - time_start)\n",
    "\n",
    "print(\"Accuracy: \" + str(score) + \" \" + \" computation time : \" + str(time_elapsed))"
   ]
  },
  {
   "cell_type": "code",
   "execution_count": 65,
   "metadata": {},
   "outputs": [
    {
     "name": "stdout",
     "output_type": "stream",
     "text": [
      "Accuracy: 0.4722063037249284  computation time : 269.0225969999999\n"
     ]
    }
   ],
   "source": [
    "#SVC with linear kernel\n",
    "\n",
    "time_start = time.clock()\n",
    "\n",
    "svm_model2 = svm.SVC(kernel = 'linear')\n",
    "svm_model2.fit(train_rev,np.round(train_rat))\n",
    "score2 = svm_model2.score(test_rev,np.round(test_rat))\n",
    "\n",
    "time_elapsed = (time.clock() - time_start)\n",
    "print(\"Accuracy: \" + str(score2) + \" \" + \" computation time : \" + str(time_elapsed))"
   ]
  },
  {
   "cell_type": "code",
   "execution_count": 77,
   "metadata": {},
   "outputs": [
    {
     "name": "stdout",
     "output_type": "stream",
     "text": [
      "Accuracy: 0.46232091690544413  computation time : 84.44622100000015\n"
     ]
    }
   ],
   "source": [
    "#Linear SVC\n",
    "\n",
    "time_start = time.clock()\n",
    "\n",
    "svm_model3 = svm.LinearSVC()\n",
    "svm_model3.fit(train_rev,np.round(train_rat))\n",
    "score3 = svm_model3.score(test_rev,np.round(test_rat))\n",
    "\n",
    "time_elapsed = (time.clock() - time_start)\n",
    "print(\"Accuracy: \" + str(score3) + \" \" + \" computation time : \" + str(time_elapsed))"
   ]
  },
  {
   "cell_type": "code",
   "execution_count": 75,
   "metadata": {},
   "outputs": [
    {
     "name": "stdout",
     "output_type": "stream",
     "text": [
      "Accuracy: 0.493  computation time : 3.0543840000000273\n"
     ]
    }
   ],
   "source": [
    "time_start = time.clock()\n",
    "\n",
    "clf = MLPClassifier(solver='lbfgs', alpha=0.01, hidden_layer_sizes=(100, 50,1), random_state=1)\n",
    "clf.fit(train_rev,np.round(train_rat))\n",
    "clf.score(test_rev,np.round(test_rat))\n",
    "\n",
    "time_elapsed = (time.clock() - time_start)\n",
    "\n",
    "print(\"Accuracy: \" + str(score) + \" \" + \" computation time : \" + str(time_elapsed))"
   ]
  },
  {
   "cell_type": "markdown",
   "metadata": {},
   "source": [
    "# Classification for Sentiment Prediction\n",
    "\n",
    "\n",
    "Input : 1x100 vector representation of review sentences\n",
    "Output: one of the 2 different sentiment classes positive(1) and negative(0). \n",
    "\n",
    "\n",
    "Ranking which are greater than 2.5 is considered as positive review while others considered as negative. \n",
    "\n",
    "Best performance with 12k random subset:\n",
    "\n",
    "- SVC Training  : Accuracy: 0.7545  computation time : 14.04\n",
    "\n",
    "- Linear SVC  Training  : Accuracy: 0.756  computation time : 4.80\n",
    "\n",
    "- MLP Training  : Accuracy: 0.7495  computation time : 10.25\n",
    "\n",
    "Best performance with all dataset:\n",
    "\n",
    "- SVC Training RBF kernel : Accuracy: 0.701  computation time : 196.87 sec\n",
    "\n",
    "- Linear SVC Training : Accuracy: 0.7  computation time : 15.04 sec\n",
    "\n",
    "- MLP Training  : Accuracy: 0.687  computation time : 20.38 sec"
   ]
  },
  {
   "cell_type": "markdown",
   "metadata": {},
   "source": [
    "## Classification of all of the dataset(~35k sample)."
   ]
  },
  {
   "cell_type": "code",
   "execution_count": 78,
   "metadata": {},
   "outputs": [],
   "source": [
    "#Rating greater than 2.5 is assigned to positive (1), others to negative(0)\n",
    "\n",
    "rat2vec = np.reshape(rat2vec,(34900))\n",
    "y = rat2vec\n",
    "y[rat2vec <= 2.5] = 0\n",
    "y[rat2vec > 2.5] = 1"
   ]
  },
  {
   "cell_type": "code",
   "execution_count": 79,
   "metadata": {},
   "outputs": [],
   "source": [
    "train_rev,test_rev,train_rat,test_rat = cross_validation.train_test_split(rev2vec.T,y,test_size = 0.2)\n"
   ]
  },
  {
   "cell_type": "code",
   "execution_count": 80,
   "metadata": {},
   "outputs": [
    {
     "name": "stdout",
     "output_type": "stream",
     "text": [
      "Accuracy: 0.7012893982808023  computation time : 196.87777700000015\n"
     ]
    }
   ],
   "source": [
    "time_start = time.clock()\n",
    "\n",
    "svm_model = svm.SVC(kernel = 'rbf')\n",
    "svm_model.fit(train_rev,train_rat)\n",
    "score = svm_model.score(test_rev,test_rat)\n",
    "\n",
    "time_elapsed = (time.clock() - time_start)\n",
    "print(\"Accuracy: \" + str(score) + \" \" + \" computation time : \" + str(time_elapsed))"
   ]
  },
  {
   "cell_type": "code",
   "execution_count": 81,
   "metadata": {},
   "outputs": [
    {
     "name": "stdout",
     "output_type": "stream",
     "text": [
      "Accuracy: 0.7  computation time : 15.04471999999987\n"
     ]
    }
   ],
   "source": [
    "time_start = time.clock()\n",
    "\n",
    "svm_model2 = svm.LinearSVC()\n",
    "svm_model2.fit(train_rev,np.round(train_rat))\n",
    "score = svm_model2.score(test_rev,np.round(test_rat))\n",
    "\n",
    "time_elapsed = (time.clock() - time_start)\n",
    "print(\"Accuracy: \" + str(score) + \" \" + \" computation time : \" + str(time_elapsed))"
   ]
  },
  {
   "cell_type": "code",
   "execution_count": 85,
   "metadata": {},
   "outputs": [
    {
     "name": "stdout",
     "output_type": "stream",
     "text": [
      "Accuracy: 0.6876790830945558  computation time : 20.381222999999864\n"
     ]
    }
   ],
   "source": [
    "time_start = time.clock()\n",
    "\n",
    "clf = MLPClassifier(solver='lbfgs', alpha=1e-5, hidden_layer_sizes=(50,5), random_state=1)\n",
    "clf.fit(train_rev,np.round(train_rat))\n",
    "score = clf.score(test_rev,np.round(test_rat))\n",
    "\n",
    "time_elapsed = (time.clock() - time_start)\n",
    "print(\"Accuracy: \" + str(score) + \" \" + \" computation time : \" + str(time_elapsed))"
   ]
  },
  {
   "cell_type": "markdown",
   "metadata": {},
   "source": [
    "## Classification of random subset(12k sample) of the dataset"
   ]
  },
  {
   "cell_type": "code",
   "execution_count": 86,
   "metadata": {},
   "outputs": [],
   "source": [
    "train_rev = rev2vec.T[:10000,:]\n",
    "train_rat = y[:10000]\n",
    "test_rev = rev2vec.T[10000:12000,:]\n",
    "test_rat = y[10000:12000]"
   ]
  },
  {
   "cell_type": "code",
   "execution_count": 87,
   "metadata": {},
   "outputs": [
    {
     "name": "stdout",
     "output_type": "stream",
     "text": [
      "Accuracy: 0.7545  computation time : 14.048001999999997\n"
     ]
    }
   ],
   "source": [
    "time_start = time.clock()\n",
    "\n",
    "svm_model = svm.SVC(kernel = 'rbf')\n",
    "svm_model.fit(train_rev,train_rat)\n",
    "score = svm_model.score(test_rev,test_rat)\n",
    "\n",
    "time_elapsed = (time.clock() - time_start)\n",
    "print(\"Accuracy: \" + str(score) + \" \" + \" computation time : \" + str(time_elapsed))"
   ]
  },
  {
   "cell_type": "code",
   "execution_count": 88,
   "metadata": {},
   "outputs": [
    {
     "name": "stdout",
     "output_type": "stream",
     "text": [
      "Accuracy: 0.756  computation time : 4.809541000000081\n"
     ]
    }
   ],
   "source": [
    "time_start = time.clock()\n",
    "\n",
    "svm_model2 = svm.LinearSVC()\n",
    "svm_model2.fit(train_rev,np.round(train_rat))\n",
    "score = svm_model2.score(test_rev,np.round(test_rat))\n",
    "\n",
    "time_elapsed = (time.clock() - time_start)\n",
    "print(\"Accuracy: \" + str(score) + \" \" + \" computation time : \" + str(time_elapsed))"
   ]
  },
  {
   "cell_type": "code",
   "execution_count": 92,
   "metadata": {},
   "outputs": [
    {
     "name": "stdout",
     "output_type": "stream",
     "text": [
      "Accuracy: 0.7495  computation time : 10.251576999999997\n"
     ]
    }
   ],
   "source": [
    "time_start = time.clock()\n",
    "\n",
    "clf = MLPClassifier(solver='lbfgs', alpha=1e-5, hidden_layer_sizes=(50,10,2), random_state=1)\n",
    "clf.fit(train_rev,np.round(train_rat))\n",
    "score = clf.score(test_rev,np.round(test_rat))\n",
    "\n",
    "time_elapsed = (time.clock() - time_start)\n",
    "print(\"Accuracy: \" + str(score) + \" \" + \" computation time : \" + str(time_elapsed))"
   ]
  },
  {
   "cell_type": "code",
   "execution_count": null,
   "metadata": {},
   "outputs": [],
   "source": []
  }
 ],
 "metadata": {
  "kernelspec": {
   "display_name": "Python 3",
   "language": "python",
   "name": "python3"
  },
  "language_info": {
   "codemirror_mode": {
    "name": "ipython",
    "version": 3
   },
   "file_extension": ".py",
   "mimetype": "text/x-python",
   "name": "python",
   "nbconvert_exporter": "python",
   "pygments_lexer": "ipython3",
   "version": "3.6.5"
  }
 },
 "nbformat": 4,
 "nbformat_minor": 2
}
